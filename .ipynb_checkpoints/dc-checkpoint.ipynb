{
 "cells": [
  {
   "cell_type": "code",
   "execution_count": null,
   "id": "6ff11c97-9fd7-40de-87ef-743bc40f4941",
   "metadata": {},
   "outputs": [],
   "source": [
    "Project: \n",
    "    \n",
    "    \n",
    "    1. problem Statement: "
   ]
  },
  {
   "cell_type": "code",
   "execution_count": null,
   "id": "981a9b7a-6690-4f5d-a108-99384e15168d",
   "metadata": {},
   "outputs": [],
   "source": [
    "Labeled Data  : \n",
    "Unlabelled Data : \n",
    "    \n",
    "    DBMS \n",
    "    \n",
    "    SQL \n",
    "    NoSQL "
   ]
  },
  {
   "cell_type": "markdown",
   "id": "5e790d3b-0799-4f50-942b-b8ec4e2f3840",
   "metadata": {},
   "source": [
    "# 1. Problem Statement "
   ]
  },
  {
   "cell_type": "code",
   "execution_count": null,
   "id": "cf378588-d04e-489f-93bd-cb375d363bbf",
   "metadata": {},
   "outputs": [],
   "source": [
    "Document classification for insurance domain : \n",
    "    Data Gathring : \n",
    "    insurance domain: Received data in pdf format \n",
    "    \n",
    "    Used OCR to convert into text [python script , regexp, file operation ] \n",
    "    \n",
    "    Data Preprocessing [missing value, pattern matching ]\n",
    "    \n",
    "    \n",
    "    classes : 5 - 15\n",
    "    \n",
    "    \n",
    "    Achieved: we have achieved around 80% automation using this process "
   ]
  },
  {
   "cell_type": "code",
   "execution_count": null,
   "id": "4fe3ed10-1487-4437-9e91-20c18b80ce18",
   "metadata": {},
   "outputs": [],
   "source": [
    "Classes\n",
    "\n",
    "news domain : 5 -6 \n",
    "education engg : 8 - 10\n",
    "healthcare domain : 15 - 20 \n",
    "\n",
    "Music: 10-15\n",
    "\n",
    "sports : 5- 6 \n",
    "\n",
    "\n",
    "\n",
    "POC  >> Proof of concept \n",
    "\n",
    "Data : \n",
    "    50k - 1.5 lakhs \n",
    "    \n",
    "final project : 1 cr to 1.5 cr"
   ]
  },
  {
   "cell_type": "code",
   "execution_count": 2,
   "id": "dee3f9b4-9e83-4988-be52-d51b6a8c3a21",
   "metadata": {},
   "outputs": [],
   "source": [
    "import os \n",
    "import glob"
   ]
  },
  {
   "cell_type": "code",
   "execution_count": 19,
   "id": "53b5fb2a-68e9-4e6f-9421-dd3aee883fc4",
   "metadata": {},
   "outputs": [],
   "source": [
    "path = r\"text\\bbc\"\n",
    "\n",
    "b_text_files = glob.glob('text\\\\bbc\\\\business\\\\*.txt')\n",
    "# b_text_files\n",
    "files = os.listdir(path)\n"
   ]
  },
  {
   "cell_type": "code",
   "execution_count": 30,
   "id": "91b82d99-36e3-43cf-88b0-eb1f7a3e130a",
   "metadata": {},
   "outputs": [
    {
     "data": {
      "text/plain": [
       "2225"
      ]
     },
     "execution_count": 30,
     "metadata": {},
     "output_type": "execute_result"
    }
   ],
   "source": [
    "artilce_list=[]\n",
    "for file in files:\n",
    "    \n",
    "    text_files = glob.glob(f\"{path}\\{file}\\\\*.txt\")\n",
    "    # print(text_files)\n",
    "    for text_file in text_files:\n",
    "        with open(text_file,'r') as f:\n",
    "            text = f.read()\n",
    "            artilce_list.append(text)\n",
    "len(artilce_list)    "
   ]
  },
  {
   "cell_type": "code",
   "execution_count": 31,
   "id": "84321bac-0e74-492f-abf9-285f0b821b15",
   "metadata": {},
   "outputs": [
    {
     "data": {
      "text/plain": [
       "'Ad sales boost Time Warner profit\\n\\nQuarterly profits at US media giant TimeWarner jumped 76% to $1.13bn (Â£600m) for the three months to December, from $639m year-earlier.\\n\\nThe firm, which is now one of the biggest investors in Google, benefited from sales of high-speed internet connections and higher advert sales. TimeWarner said fourth quarter sales rose 2% to $11.1bn from $10.9bn. Its profits were buoyed by one-off gains which offset a profit dip at Warner Bros, and less users for AOL.\\n\\nTime Warner said on Friday that it now owns 8% of search-engine Google. But its own internet business, AOL, had has mixed fortunes. It lost 464,000 subscribers in the fourth quarter profits were lower than in the preceding three quarters. However, the company said AOL\\'s underlying profit before exceptional items rose 8% on the back of stronger internet advertising revenues. It hopes to increase subscribers by offering the online service free to TimeWarner internet customers and will try to sign up AOL\\'s existing customers for high-speed broadband. TimeWarner also has to restate 2000 and 2003 results following a probe by the US Securities Exchange Commission (SEC), which is close to concluding.\\n\\nTime Warner\\'s fourth quarter profits were slightly better than analysts\\' expectations. But its film division saw profits slump 27% to $284m, helped by box-office flops Alexander and Catwoman, a sharp contrast to year-earlier, when the third and final film in the Lord of the Rings trilogy boosted results. For the full-year, TimeWarner posted a profit of $3.36bn, up 27% from its 2003 performance, while revenues grew 6.4% to $42.09bn. \"Our financial performance was strong, meeting or exceeding all of our full-year objectives and greatly enhancing our flexibility,\" chairman and chief executive Richard Parsons said. For 2005, TimeWarner is projecting operating earnings growth of around 5%, and also expects higher revenue and wider profit margins.\\n\\nTimeWarner is to restate its accounts as part of efforts to resolve an inquiry into AOL by US market regulators. It has already offered to pay $300m to settle charges, in a deal that is under review by the SEC. The company said it was unable to estimate the amount it needed to set aside for legal reserves, which it previously set at $500m. It intends to adjust the way it accounts for a deal with German music publisher Bertelsmann\\'s purchase of a stake in AOL Europe, which it had reported as advertising revenue. It will now book the sale of its stake in AOL Europe as a loss on the value of that stake.\\n'"
      ]
     },
     "execution_count": 31,
     "metadata": {},
     "output_type": "execute_result"
    }
   ],
   "source": [
    "artilce_list[0]"
   ]
  },
  {
   "cell_type": "code",
   "execution_count": 32,
   "id": "1c144371-b06a-497a-a86c-a1c2f6860500",
   "metadata": {},
   "outputs": [
    {
     "data": {
      "text/plain": [
       "['business', 'entertainment', 'politics', 'sport', 'tech']"
      ]
     },
     "execution_count": 32,
     "metadata": {},
     "output_type": "execute_result"
    }
   ],
   "source": [
    "path = r\"text\\bbc\"\n",
    "\n",
    "# b_text_files = glob.glob('text\\\\bbc\\\\business\\\\*.txt')\n",
    "# # b_text_files\n",
    "files = os.listdir(path)\n",
    "files"
   ]
  },
  {
   "cell_type": "code",
   "execution_count": 39,
   "id": "a2ce8508-ebbe-4aab-a6ba-80facb8b39e3",
   "metadata": {},
   "outputs": [],
   "source": [
    "business_class = path + '\\\\business'\n",
    "business_class_text_files = glob.glob(f\"{business_class}\\\\*.txt\")\n",
    "\n",
    "entertainment_class = path + '\\\\entertainment'\n",
    "entertainment_class_text_files = glob.glob(f\"{entertainment_class}\\\\*.txt\")\n",
    "                                           \n",
    "politics_class = path + '\\\\politics'\n",
    "politics_class_text_files =  glob.glob(f\"{politics_class}\\\\*.txt\")\n",
    "\n",
    "sport_class = path + '\\\\sport'\n",
    "sport_class_text_files = glob.glob(f\"{sport_class}\\\\*.txt\")\n",
    "\n",
    "tech_class = path + '\\\\tech'\n",
    "tech_class_text_files =  glob.glob(f\"{tech_class}\\\\*.txt\")\n",
    "\n",
    "# tech_class_text_files"
   ]
  },
  {
   "cell_type": "code",
   "execution_count": 51,
   "id": "d58eb98f-4959-4c0e-be62-239c9d123c52",
   "metadata": {},
   "outputs": [
    {
     "name": "stdout",
     "output_type": "stream",
     "text": [
      "2225\n",
      "2225\n"
     ]
    }
   ],
   "source": [
    "article =[]\n",
    "target = []\n",
    "def text_list(file_path_list,class_name):\n",
    "    for file in file_path_list:\n",
    "        with open(file,'r') as f:\n",
    "            text = f.read()\n",
    "            article.append(text)\n",
    "            target.append(class_name)\n",
    "text_list(business_class_text_files,'business')\n",
    "text_list(entertainment_class_text_files,'entertainment')\n",
    "text_list(politics_class_text_files,'politics')\n",
    "text_list(sport_class_text_files,'sport')\n",
    "text_list(tech_class_text_files,'tech')\n",
    "print(len(article))\n",
    "print(len(target))"
   ]
  },
  {
   "cell_type": "code",
   "execution_count": 52,
   "id": "66816aab-e9ed-462c-b798-92da2b8ae519",
   "metadata": {},
   "outputs": [
    {
     "data": {
      "text/plain": [
       "'tech'"
      ]
     },
     "execution_count": 52,
     "metadata": {},
     "output_type": "execute_result"
    }
   ],
   "source": [
    "target[-1]"
   ]
  },
  {
   "cell_type": "code",
   "execution_count": 54,
   "id": "95d6b1c9-d9fe-4fc4-b53d-afa596c27aef",
   "metadata": {},
   "outputs": [
    {
     "data": {
      "text/html": [
       "<div>\n",
       "<style scoped>\n",
       "    .dataframe tbody tr th:only-of-type {\n",
       "        vertical-align: middle;\n",
       "    }\n",
       "\n",
       "    .dataframe tbody tr th {\n",
       "        vertical-align: top;\n",
       "    }\n",
       "\n",
       "    .dataframe thead th {\n",
       "        text-align: right;\n",
       "    }\n",
       "</style>\n",
       "<table border=\"1\" class=\"dataframe\">\n",
       "  <thead>\n",
       "    <tr style=\"text-align: right;\">\n",
       "      <th></th>\n",
       "      <th>text</th>\n",
       "      <th>class</th>\n",
       "    </tr>\n",
       "  </thead>\n",
       "  <tbody>\n",
       "    <tr>\n",
       "      <th>0</th>\n",
       "      <td>Ad sales boost Time Warner profit\\n\\nQuarterly...</td>\n",
       "      <td>business</td>\n",
       "    </tr>\n",
       "    <tr>\n",
       "      <th>1</th>\n",
       "      <td>Dollar gains on Greenspan speech\\n\\nThe dollar...</td>\n",
       "      <td>business</td>\n",
       "    </tr>\n",
       "    <tr>\n",
       "      <th>2</th>\n",
       "      <td>Yukos unit buyer faces loan claim\\n\\nThe owner...</td>\n",
       "      <td>business</td>\n",
       "    </tr>\n",
       "    <tr>\n",
       "      <th>3</th>\n",
       "      <td>High fuel prices hit BA's profits\\n\\nBritish A...</td>\n",
       "      <td>business</td>\n",
       "    </tr>\n",
       "    <tr>\n",
       "      <th>4</th>\n",
       "      <td>Pernod takeover talk lifts Domecq\\n\\nShares in...</td>\n",
       "      <td>business</td>\n",
       "    </tr>\n",
       "    <tr>\n",
       "      <th>...</th>\n",
       "      <td>...</td>\n",
       "      <td>...</td>\n",
       "    </tr>\n",
       "    <tr>\n",
       "      <th>2220</th>\n",
       "      <td>BT program to beat dialler scams\\n\\nBT is intr...</td>\n",
       "      <td>tech</td>\n",
       "    </tr>\n",
       "    <tr>\n",
       "      <th>2221</th>\n",
       "      <td>Spam e-mails tempt net shoppers\\n\\nComputer us...</td>\n",
       "      <td>tech</td>\n",
       "    </tr>\n",
       "    <tr>\n",
       "      <th>2222</th>\n",
       "      <td>Be careful how you code\\n\\nA new European dire...</td>\n",
       "      <td>tech</td>\n",
       "    </tr>\n",
       "    <tr>\n",
       "      <th>2223</th>\n",
       "      <td>US cyber security chief resigns\\n\\nThe man mak...</td>\n",
       "      <td>tech</td>\n",
       "    </tr>\n",
       "    <tr>\n",
       "      <th>2224</th>\n",
       "      <td>Losing yourself in online gaming\\n\\nOnline rol...</td>\n",
       "      <td>tech</td>\n",
       "    </tr>\n",
       "  </tbody>\n",
       "</table>\n",
       "<p>2225 rows × 2 columns</p>\n",
       "</div>"
      ],
      "text/plain": [
       "                                                   text     class\n",
       "0     Ad sales boost Time Warner profit\\n\\nQuarterly...  business\n",
       "1     Dollar gains on Greenspan speech\\n\\nThe dollar...  business\n",
       "2     Yukos unit buyer faces loan claim\\n\\nThe owner...  business\n",
       "3     High fuel prices hit BA's profits\\n\\nBritish A...  business\n",
       "4     Pernod takeover talk lifts Domecq\\n\\nShares in...  business\n",
       "...                                                 ...       ...\n",
       "2220  BT program to beat dialler scams\\n\\nBT is intr...      tech\n",
       "2221  Spam e-mails tempt net shoppers\\n\\nComputer us...      tech\n",
       "2222  Be careful how you code\\n\\nA new European dire...      tech\n",
       "2223  US cyber security chief resigns\\n\\nThe man mak...      tech\n",
       "2224  Losing yourself in online gaming\\n\\nOnline rol...      tech\n",
       "\n",
       "[2225 rows x 2 columns]"
      ]
     },
     "execution_count": 54,
     "metadata": {},
     "output_type": "execute_result"
    }
   ],
   "source": [
    "import pandas as pd\n",
    "d1 = {'text':article,'class':target}\n",
    "df = pd.DataFrame(d1)\n",
    "df"
   ]
  },
  {
   "cell_type": "code",
   "execution_count": 55,
   "id": "be72ccbd-f39f-42b5-8b27-f698060dded4",
   "metadata": {},
   "outputs": [],
   "source": [
    "df.to_csv('sample.csv')"
   ]
  },
  {
   "cell_type": "code",
   "execution_count": null,
   "id": "2f50a42c-5305-4172-82e0-5bd7a1773ab4",
   "metadata": {},
   "outputs": [],
   "source": []
  }
 ],
 "metadata": {
  "kernelspec": {
   "display_name": "Python 3 (ipykernel)",
   "language": "python",
   "name": "python3"
  },
  "language_info": {
   "codemirror_mode": {
    "name": "ipython",
    "version": 3
   },
   "file_extension": ".py",
   "mimetype": "text/x-python",
   "name": "python",
   "nbconvert_exporter": "python",
   "pygments_lexer": "ipython3",
   "version": "3.10.2"
  }
 },
 "nbformat": 4,
 "nbformat_minor": 5
}
